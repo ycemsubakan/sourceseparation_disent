{
 "cells": [
  {
   "cell_type": "code",
   "execution_count": null,
   "metadata": {},
   "outputs": [],
   "source": [
    "import numpy as np\n",
    "import torch\n",
    "import pdb\n",
    "import os \n",
    "import pandas as pd\n",
    "import seaborn as sns\n",
    "sns.set(style=\"whitegrid\")\n",
    "\n",
    "''' \n",
    "TODO:\n",
    "    1) all results in one pandas dataframe\n",
    "    2) box plot given some feature\n",
    "\n",
    "'''\n",
    "\n",
    "\n",
    "path = 'paramsearch_results/'\n",
    "files = os.listdir(path)\n",
    "df = pd.DataFrame()\n",
    "\n",
    "for fl in files:\n",
    "    results = torch.load(path + fl)\n",
    "    results_lst = []\n",
    "    all_tst_sdrs = []\n",
    "    all_val_sdrs = []\n",
    "    for rslt in results:\n",
    "        arg = (rslt['mean_test'], rslt['mean_val'], list(rslt['config']))\n",
    "        results_lst.append(arg)\n",
    "        #print(arg)\n",
    "        to_append = {}\n",
    "        for k in rslt['arguments'].__dict__:\n",
    "            if 'directories' in k:\n",
    "                continue\n",
    "            to_append[k] = rslt['arguments'].__dict__[k]\n",
    "        to_append['mean_test'] = rslt['mean_test']\n",
    "        to_append['mean_val']  = rslt['mean_val']\n",
    "        \n",
    "        to_append = pd.DataFrame(to_append, index=[len(df)])\n",
    "        df = df.append(to_append)\n",
    "        \n",
    "        all_tst_sdrs.append(rslt['mean_test'])\n",
    "        all_val_sdrs.append(rslt['mean_val'])\n",
    "\n",
    "\n",
    "    #max_ind_tst = np.amax(all_tst_sdrs)\n",
    "    max_ind_val = int(np.argmax(all_val_sdrs))\n",
    "\n",
    "def clean_name(x):\n",
    "    try:\n",
    "        x = x.split('_2018')[0]\n",
    "    except:\n",
    "        None\n",
    "    try:\n",
    "        x = x.split('-2018')[0]\n",
    "    except:\n",
    "        None   \n",
    "    return x\n",
    "            \n",
    "df['model_name'] = df['model'].map(clean_name)\n",
    "df_good_runs = df[df.mean_test>1]\n"
   ]
  },
  {
   "cell_type": "code",
   "execution_count": null,
   "metadata": {},
   "outputs": [],
   "source": []
  },
  {
   "cell_type": "code",
   "execution_count": null,
   "metadata": {},
   "outputs": [],
   "source": [
    "df_no_side = df_good_runs[df_good_runs.side.map(lambda x: np.isnan(x))]\n",
    "len(df_no_side)\n"
   ]
  },
  {
   "cell_type": "code",
   "execution_count": null,
   "metadata": {},
   "outputs": [],
   "source": [
    "%matplotlib inline\n",
    "df_no_side.boxplot(column=['mean_val'], by=['att'])"
   ]
  },
  {
   "cell_type": "code",
   "execution_count": null,
   "metadata": {},
   "outputs": [],
   "source": [
    "tips = sns.load_dataset(\"tips\")\n",
    "# tips['total_bill']\n",
    "ax = sns.violinplot(x=tips['total_bill'])"
   ]
  },
  {
   "cell_type": "code",
   "execution_count": null,
   "metadata": {},
   "outputs": [],
   "source": [
    "ax = sns.violinplot(x=df_no_side['mean_val'].reset_index()['mean_val'])"
   ]
  },
  {
   "cell_type": "code",
   "execution_count": null,
   "metadata": {
    "collapsed": true
   },
   "outputs": [],
   "source": []
  },
  {
   "cell_type": "code",
   "execution_count": 1,
   "metadata": {},
   "outputs": [
    {
     "ename": "NameError",
     "evalue": "name 'df_no_side' is not defined",
     "output_type": "error",
     "traceback": [
      "\u001b[0;31m---------------------------------------------------------------------------\u001b[0m",
      "\u001b[0;31mNameError\u001b[0m                                 Traceback (most recent call last)",
      "\u001b[0;32m<ipython-input-1-f79ce3c90a75>\u001b[0m in \u001b[0;36m<module>\u001b[0;34m()\u001b[0m\n\u001b[0;32m----> 1\u001b[0;31m \u001b[0mdf_no_side\u001b[0m\u001b[0;34m[\u001b[0m\u001b[0;34m'mean_val'\u001b[0m\u001b[0;34m]\u001b[0m\u001b[0;34m.\u001b[0m\u001b[0mreset_index\u001b[0m\u001b[0;34m(\u001b[0m\u001b[0;34m)\u001b[0m\u001b[0;34m[\u001b[0m\u001b[0;34m'mean_val'\u001b[0m\u001b[0;34m]\u001b[0m\u001b[0;34m\u001b[0m\u001b[0m\n\u001b[0m",
      "\u001b[0;31mNameError\u001b[0m: name 'df_no_side' is not defined"
     ]
    }
   ],
   "source": [
    "df_no_side['mean_val'].reset_index()['mean_val']"
   ]
  },
  {
   "cell_type": "code",
   "execution_count": null,
   "metadata": {
    "collapsed": true
   },
   "outputs": [],
   "source": []
  },
  {
   "cell_type": "code",
   "execution_count": null,
   "metadata": {},
   "outputs": [],
   "source": [
    "len(df)\n",
    "df_good_runs.sort_values('mean_val', ascending=False)[['model_name','mean_test','ntemp']]"
   ]
  },
  {
   "cell_type": "code",
   "execution_count": null,
   "metadata": {
    "collapsed": true
   },
   "outputs": [],
   "source": []
  },
  {
   "cell_type": "code",
   "execution_count": null,
   "metadata": {
    "collapsed": true
   },
   "outputs": [],
   "source": []
  },
  {
   "cell_type": "code",
   "execution_count": null,
   "metadata": {
    "collapsed": true
   },
   "outputs": [],
   "source": []
  }
 ],
 "metadata": {
  "kernelspec": {
   "display_name": "Python 3",
   "language": "python",
   "name": "python3"
  },
  "language_info": {
   "codemirror_mode": {
    "name": "ipython",
    "version": 3
   },
   "file_extension": ".py",
   "mimetype": "text/x-python",
   "name": "python",
   "nbconvert_exporter": "python",
   "pygments_lexer": "ipython3",
   "version": "3.6.1"
  }
 },
 "nbformat": 4,
 "nbformat_minor": 2
}
